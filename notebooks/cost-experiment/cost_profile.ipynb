{
 "cells": [
  {
   "cell_type": "code",
   "execution_count": 1,
   "metadata": {},
   "outputs": [
    {
     "name": "stderr",
     "output_type": "stream",
     "text": [
      "/Library/Python/3.7/site-packages/librosa/util/decorators.py:9: NumbaDeprecationWarning: An import was requested from a module that has moved location.\n",
      "Import requested from: 'numba.decorators', please update to use 'numba.core.decorators' or pin to Numba version 0.48.0. This alias will not be present in Numba version 0.50.0.\n",
      "  from numba.decorators import jit as optional_jit\n",
      "/Library/Python/3.7/site-packages/librosa/util/decorators.py:9: NumbaDeprecationWarning: An import was requested from a module that has moved location.\n",
      "Import of 'jit' requested from: 'numba.decorators', please update to use 'numba.core.decorators' or pin to Numba version 0.48.0. This alias will not be present in Numba version 0.50.0.\n",
      "  from numba.decorators import jit as optional_jit\n"
     ]
    }
   ],
   "source": [
    "import librosa\n",
    "import librosa.display\n",
    "import numpy as np\n",
    "import matplotlib.pyplot as plt\n",
    "import scipy.signal\n",
    "import math\n",
    "%matplotlib inline\n",
    "\n",
    "import sys\n",
    "sys.path.insert(0, '../../scripts')\n",
    "\n",
    "import stft_zoom, display, detect_musical_regions\n",
    "from util import *\n",
    "import mappings\n",
    "import pickle\n",
    "import PIL\n",
    "import IPython.display\n",
    "from classes import SingleResSpectrogram, MultiResSpectrogram"
   ]
  },
  {
   "cell_type": "code",
   "execution_count": 2,
   "metadata": {},
   "outputs": [],
   "source": [
    "%load_ext line_profiler"
   ]
  },
  {
   "cell_type": "code",
   "execution_count": 3,
   "metadata": {},
   "outputs": [],
   "source": [
    "def energy_reference(y, time_range, freq_range, sr=44100):\n",
    "    y_slice = y[math.floor(time_range[0] * sr): math.floor(time_range[1] * sr)]\n",
    "    spec = np.fft.rfft(y_slice)\n",
    "    freqs = np.fft.rfftfreq(len(y_slice), 1./sr)\n",
    "    idx_start = find_nearest(freqs, freq_range[0])\n",
    "    idx_stop = find_nearest(freqs, freq_range[1])\n",
    "    return np.sum(np.abs(spec[idx_start:idx_stop])**2) * 2 / len(y_slice)\n",
    "\n",
    "def normalize_subregion(spec_zoom, time_range, freq_range, y):\n",
    "    energy_ref = energy_reference(y, time_range, freq_range)\n",
    "    energy_old = np.sum(spec_zoom ** 2)\n",
    "    return math.sqrt(energy_ref / energy_old) * spec_zoom\n",
    "\n",
    "def ers_singlelevel(y, res, kernel, model, pct, sr=44100, n_fft=512, hop_size=128, normalize=True):\n",
    "    spec = np.abs(librosa.stft(y, n_fft=n_fft, hop_length=hop_size))\n",
    "    time_span = [0,len(y)/sr]\n",
    "    x_axis, y_axis = stft_zoom.get_axes_values(sr, 0, time_span, spec.shape) \n",
    "    base_spec = SingleResSpectrogram(spec, x_axis, y_axis)\n",
    "    multires_spec = MultiResSpectrogram(base_spec)\n",
    "    indices, original_shape = detect_musical_regions.detect_musical_regions(model, spec, kernel=kernel, mode='pct', pct_or_threshold=pct, n_fft=n_fft, hop_size=hop_size)\n",
    "    to_be_refined = detect_musical_regions.musical_regions_to_ranges(indices, original_shape, x_axis, y_axis, kernel, n_fft=n_fft, hop_size=hop_size)\n",
    "\n",
    "    stft_zoom.set_signal_bank(y,kernel, n_fft=n_fft)\n",
    "\n",
    "    for subregion in to_be_refined:\n",
    "        freq_range = subregion[0]\n",
    "        time_range = subregion[1]\n",
    "        spec_zoom, x_axis, y_axis, new_sr, window_size, hop_size = stft_zoom.stft_zoom(y, freq_range, time_range, sr=sr, original_window_size=n_fft, k=res)\n",
    "        refined_subspec = SingleResSpectrogram(spec_zoom, x_axis, y_axis)\n",
    "        multires_spec.insert_zoom(multires_spec.base_spec, refined_subspec, zoom_level=1, normalize=normalize)\n",
    "        \n",
    "    return multires_spec"
   ]
  },
  {
   "cell_type": "code",
   "execution_count": 4,
   "metadata": {},
   "outputs": [
    {
     "name": "stderr",
     "output_type": "stream",
     "text": [
      "/Users/nicolas/Library/Python/3.7/lib/python/site-packages/sklearn/base.py:306: UserWarning: Trying to unpickle estimator GaussianNB from version 0.22.2.post1 when using version 0.21.3. This might lead to breaking code or invalid results. Use at your own risk.\n",
      "  UserWarning)\n"
     ]
    }
   ],
   "source": [
    "model = pickle.load(open('../../notebooks/renyi_shannon_prollharm_800.sav', 'rb'))\n",
    "y, sr = librosa.load('../../data/MIDI-Unprocessed_R1_D1-1-8_mid--AUDIO-from_mp3_03_R1_2015_wav--2.wav', sr=44100)\n",
    "halfway_point = len(y)//2\n",
    "y = y[halfway_point:halfway_point+30*sr]\n",
    "kernel = [800,800]\n",
    "n_fft=512\n",
    "hop_size=512"
   ]
  },
  {
   "cell_type": "code",
   "execution_count": 5,
   "metadata": {},
   "outputs": [],
   "source": [
    "%lprun -f ers_singlelevel ers_singlelevel(y, 5, kernel, model, 50)"
   ]
  },
  {
   "cell_type": "code",
   "execution_count": 6,
   "metadata": {},
   "outputs": [],
   "source": [
    "# desmembrar 3 coisas: a deteccao, o signal bank (?) e o algoritmo em subbandas"
   ]
  },
  {
   "cell_type": "code",
   "execution_count": 7,
   "metadata": {},
   "outputs": [],
   "source": [
    "k = 5\n",
    "pct = 50\n",
    "\n",
    "spec = np.abs(librosa.stft(y, n_fft=n_fft, hop_length=hop_size))\n",
    "time_span = [0,len(y)/sr]\n",
    "x_axis, y_axis = stft_zoom.get_axes_values(sr, 0, time_span, spec.shape)\n",
    "base_spec = SingleResSpectrogram(spec, x_axis, y_axis)\n",
    "multires_spec = MultiResSpectrogram(base_spec)\n",
    "indices, original_shape = detect_musical_regions.detect_musical_regions(model, spec, kernel=kernel, mode='pct', pct_or_threshold=pct, n_fft=n_fft, hop_size=hop_size)\n"
   ]
  },
  {
   "cell_type": "code",
   "execution_count": 8,
   "metadata": {},
   "outputs": [],
   "source": [
    "%lprun -f detect_musical_regions.detect_musical_regions detect_musical_regions.detect_musical_regions(model, spec, kernel=kernel, mode='pct', pct_or_threshold=pct, n_fft=n_fft, hop_size=hop_size)"
   ]
  },
  {
   "cell_type": "code",
   "execution_count": 9,
   "metadata": {},
   "outputs": [],
   "source": [
    "spec = np.abs(librosa.stft(y, n_fft=n_fft, hop_length=hop_size))\n",
    "time_span = [0,len(y)/sr]\n",
    "x_axis, y_axis = stft_zoom.get_axes_values(sr, 0, time_span, spec.shape)\n",
    "base_spec = SingleResSpectrogram(spec, x_axis, y_axis)\n",
    "multires_spec = MultiResSpectrogram(base_spec)\n",
    "indices, original_shape = detect_musical_regions.detect_musical_regions(model, spec, kernel=kernel, mode='pct', pct_or_threshold=pct, n_fft=n_fft, hop_size=hop_size)\n",
    "to_be_refined = detect_musical_regions.musical_regions_to_ranges(indices, original_shape, x_axis, y_axis, kernel, n_fft=n_fft, hop_size=hop_size)\n",
    "\n",
    "# stft_zoom.set_signal_bank(y,kernel)\n",
    "\n"
   ]
  },
  {
   "cell_type": "code",
   "execution_count": 11,
   "metadata": {},
   "outputs": [],
   "source": [
    "# filter and mod\n",
    "%lprun -f stft_zoom.make_signal_bank stft_zoom.make_signal_bank(y, kernel, sr=sr, n_fft=n_fft)"
   ]
  },
  {
   "cell_type": "code",
   "execution_count": 12,
   "metadata": {},
   "outputs": [],
   "source": [
    "spec = np.abs(librosa.stft(y, n_fft=n_fft, hop_length=hop_size))\n",
    "time_span = [0,len(y)/sr]\n",
    "x_axis, y_axis = stft_zoom.get_axes_values(sr, 0, time_span, spec.shape)\n",
    "base_spec = SingleResSpectrogram(spec, x_axis, y_axis)\n",
    "multires_spec = MultiResSpectrogram(base_spec)\n",
    "indices, original_shape = detect_musical_regions.detect_musical_regions(model, spec, kernel=kernel, mode='pct', pct_or_threshold=pct, n_fft=n_fft, hop_size=hop_size)\n",
    "to_be_refined = detect_musical_regions.musical_regions_to_ranges(indices, original_shape, x_axis, y_axis, kernel, n_fft=n_fft, hop_size=hop_size)\n",
    "\n",
    "stft_zoom.set_signal_bank(y,kernel)"
   ]
  },
  {
   "cell_type": "code",
   "execution_count": 13,
   "metadata": {},
   "outputs": [
    {
     "name": "stdout",
     "output_type": "stream",
     "text": [
      "[559.86328125, 1075.66015625]\n"
     ]
    }
   ],
   "source": [
    "subregion = to_be_refined[60]\n",
    "freq_range = subregion[0]\n",
    "print(freq_range)\n",
    "time_range = subregion[1]"
   ]
  },
  {
   "cell_type": "code",
   "execution_count": 14,
   "metadata": {},
   "outputs": [],
   "source": [
    "%lprun -f stft_zoom.stft_zoom stft_zoom.stft_zoom(y, freq_range, time_range, sr=sr, original_window_size=n_fft, k=5)"
   ]
  },
  {
   "cell_type": "code",
   "execution_count": 17,
   "metadata": {},
   "outputs": [],
   "source": [
    "%lprun -f stft_zoom.stft_zoom_nobank stft_zoom.stft_zoom_nobank(y, freq_range, time_range, sr=sr, original_window_size=n_fft, k=5)"
   ]
  },
  {
   "cell_type": "code",
   "execution_count": 15,
   "metadata": {},
   "outputs": [],
   "source": [
    "%lprun -f  stft_zoom.filter_and_mod stft_zoom.filter_and_mod(stft_zoom.slice_signal(y, time_range, sr), freq_range, sr)"
   ]
  },
  {
   "cell_type": "code",
   "execution_count": 43,
   "metadata": {},
   "outputs": [],
   "source": [
    "n=8192*2"
   ]
  },
  {
   "cell_type": "code",
   "execution_count": 44,
   "metadata": {},
   "outputs": [
    {
     "name": "stdout",
     "output_type": "stream",
     "text": [
      "500 ms ± 0 ns per loop (mean ± std. dev. of 1 run, 1 loop each)\n"
     ]
    }
   ],
   "source": [
    "%timeit -n 1 -r 1 librosa.stft(y, n_fft=n, hop_length=512)"
   ]
  },
  {
   "cell_type": "code",
   "execution_count": 50,
   "metadata": {},
   "outputs": [
    {
     "name": "stdout",
     "output_type": "stream",
     "text": [
      "3.33 s ± 0 ns per loop (mean ± std. dev. of 1 run, 1 loop each)\n"
     ]
    }
   ],
   "source": [
    "%timeit -n 1 -r 1 ers_singlelevel(y, 32, [200,200], model, 30)"
   ]
  },
  {
   "cell_type": "code",
   "execution_count": 41,
   "metadata": {},
   "outputs": [
    {
     "data": {
      "text/plain": [
       "31.25"
      ]
     },
     "execution_count": 41,
     "metadata": {},
     "output_type": "execute_result"
    }
   ],
   "source": [
    "16000/512"
   ]
  },
  {
   "cell_type": "code",
   "execution_count": null,
   "metadata": {},
   "outputs": [],
   "source": []
  },
  {
   "cell_type": "code",
   "execution_count": null,
   "metadata": {},
   "outputs": [],
   "source": []
  },
  {
   "cell_type": "code",
   "execution_count": null,
   "metadata": {},
   "outputs": [],
   "source": []
  },
  {
   "cell_type": "code",
   "execution_count": null,
   "metadata": {},
   "outputs": [],
   "source": []
  },
  {
   "cell_type": "code",
   "execution_count": null,
   "metadata": {},
   "outputs": [],
   "source": []
  },
  {
   "cell_type": "markdown",
   "metadata": {},
   "source": [
    "Profiling por partes:"
   ]
  },
  {
   "cell_type": "code",
   "execution_count": 41,
   "metadata": {},
   "outputs": [],
   "source": [
    "def initialize_data_struct():\n",
    "    n_fft = 2048\n",
    "    kernel = [800,800]\n",
    "    spec = np.abs(librosa.stft(y, n_fft=n_fft))\n",
    "    x_axis, y_axis = stft_zoom.get_axes_values(sr, 0, [0,len(y)/sr], spec.shape)\n",
    "\n",
    "    base_spec = SingleResSpectrogram(spec, x_axis, y_axis)\n",
    "    multires_spec = MultiResSpectrogram(base_spec)"
   ]
  },
  {
   "cell_type": "code",
   "execution_count": 42,
   "metadata": {},
   "outputs": [
    {
     "name": "stdout",
     "output_type": "stream",
     "text": [
      "49.1 ms ± 3.11 ms per loop (mean ± std. dev. of 7 runs, 10 loops each)\n"
     ]
    }
   ],
   "source": [
    "%%timeit\n",
    "initialize_data_struct()"
   ]
  },
  {
   "cell_type": "code",
   "execution_count": 43,
   "metadata": {},
   "outputs": [],
   "source": [
    "%lprun -f initialize_data_struct initialize_data_struct()"
   ]
  },
  {
   "cell_type": "code",
   "execution_count": 33,
   "metadata": {},
   "outputs": [],
   "source": [
    "## 56% para a stft, 43% para inicializar o SingleResSpec"
   ]
  },
  {
   "cell_type": "code",
   "execution_count": 34,
   "metadata": {},
   "outputs": [],
   "source": [
    "n_fft = 2048\n",
    "kernel = [800,800]\n",
    "spec = np.abs(librosa.stft(y, n_fft=n_fft))\n",
    "x_axis, y_axis = stft_zoom.get_axes_values(sr, 0, [0,len(y)/sr], spec.shape)\n",
    "\n",
    "base_spec = SingleResSpectrogram(spec, x_axis, y_axis)\n",
    "multires_spec = MultiResSpectrogram(base_spec)"
   ]
  },
  {
   "cell_type": "code",
   "execution_count": 35,
   "metadata": {},
   "outputs": [],
   "source": [
    "kernel = [800,800]\n",
    "threshold = 0.8\n",
    "indices, shape_feature_map = detect_musical_regions.detect_musical_regions(model, spec, mode='threshold', pct_or_threshold=threshold)"
   ]
  },
  {
   "cell_type": "code",
   "execution_count": 36,
   "metadata": {},
   "outputs": [],
   "source": [
    "%lprun -f detect_musical_regions.detect_musical_regions detect_musical_regions.detect_musical_regions(model, spec, mode='threshold', pct_or_threshold=0.8)"
   ]
  },
  {
   "cell_type": "code",
   "execution_count": 7,
   "metadata": {},
   "outputs": [],
   "source": [
    "hop_size = 512"
   ]
  },
  {
   "cell_type": "code",
   "execution_count": 8,
   "metadata": {},
   "outputs": [],
   "source": [
    "%lprun -f mappings.extract_features mappings.extract_features(spec, kernel, n_fft=n_fft, hop_size=hop_size, sr=sr, fft_freqs=y_axis)"
   ]
  },
  {
   "cell_type": "code",
   "execution_count": 23,
   "metadata": {},
   "outputs": [],
   "source": [
    "## 85% extraindo features"
   ]
  },
  {
   "cell_type": "code",
   "execution_count": 9,
   "metadata": {},
   "outputs": [],
   "source": [
    "interesting_regions = detect_musical_regions.musical_regions_to_ranges(indices, shape_feature_map, x_axis, y_axis, kernel)"
   ]
  },
  {
   "cell_type": "code",
   "execution_count": 25,
   "metadata": {},
   "outputs": [],
   "source": [
    "%lprun -f detect_musical_regions.musical_regions_to_ranges detect_musical_regions.musical_regions_to_ranges(indices, shape_feature_map, x_axis, y_axis, kernel)"
   ]
  },
  {
   "cell_type": "code",
   "execution_count": 26,
   "metadata": {},
   "outputs": [],
   "source": [
    "# tempo desprezivel"
   ]
  },
  {
   "cell_type": "code",
   "execution_count": 10,
   "metadata": {},
   "outputs": [],
   "source": [
    "subregion = interesting_regions[0]\n",
    "\n",
    "freq_range = subregion[0]\n",
    "time_range = subregion[1]\n",
    "    \n",
    "# Zoom in using \"stft_zoom\" (it prints out what subband processing method was applied)\n",
    "spec_zoom, x_axis, y_axis, new_sr, window_size, hop_size = stft_zoom.stft_zoom(y, freq_range, time_range, sr=sr, original_window_size=n_fft, k=3)\n",
    "    \n",
    "# Each refined subregion is a SingleResSpectrogram of its own...\n",
    "refined_subspec = SingleResSpectrogram(spec_zoom, x_axis, y_axis)\n",
    "# ...that is inserted into a MultiResSpectrogram\n",
    "multires_spec.insert_zoom(multires_spec.base_spec, refined_subspec, zoom_level=1)"
   ]
  },
  {
   "cell_type": "code",
   "execution_count": 28,
   "metadata": {},
   "outputs": [],
   "source": [
    "def zoom():\n",
    "    freq_range = subregion[0]\n",
    "    time_range = subregion[1]\n",
    "\n",
    "    # Zoom in using \"stft_zoom\" (it prints out what subband processing method was applied)\n",
    "    spec_zoom, x_axis, y_axis, new_sr, window_size, hop_size = stft_zoom.stft_zoom(y, freq_range, time_range, sr=sr, original_window_size=n_fft, k=3)\n",
    "\n",
    "    # Each refined subregion is a SingleResSpectrogram of its own...\n",
    "    refined_subspec = SingleResSpectrogram(spec_zoom, x_axis, y_axis)\n",
    "    # ...that is inserted into a MultiResSpectrogram\n",
    "    multires_spec.insert_zoom(multires_spec.base_spec, refined_subspec, zoom_level=1)"
   ]
  },
  {
   "cell_type": "code",
   "execution_count": 29,
   "metadata": {},
   "outputs": [
    {
     "name": "stdout",
     "output_type": "stream",
     "text": [
      "ring mod + lpf\n"
     ]
    }
   ],
   "source": [
    "%lprun -f zoom zoom()"
   ]
  },
  {
   "cell_type": "code",
   "execution_count": 30,
   "metadata": {},
   "outputs": [
    {
     "name": "stdout",
     "output_type": "stream",
     "text": [
      "ring mod + lpf\n"
     ]
    }
   ],
   "source": [
    "%lprun -f stft_zoom.stft_zoom stft_zoom.stft_zoom(y, freq_range, time_range, sr=sr, original_window_size=n_fft, k=3)\n"
   ]
  },
  {
   "cell_type": "code",
   "execution_count": 31,
   "metadata": {},
   "outputs": [],
   "source": [
    "# 94% no filter_and_mod()"
   ]
  },
  {
   "cell_type": "code",
   "execution_count": 33,
   "metadata": {},
   "outputs": [
    {
     "name": "stdout",
     "output_type": "stream",
     "text": [
      "ring mod + lpf\n"
     ]
    }
   ],
   "source": [
    "%lprun -f stft_zoom.filter_and_mod stft_zoom.filter_and_mod(y, freq_range, sr)"
   ]
  },
  {
   "cell_type": "code",
   "execution_count": 35,
   "metadata": {},
   "outputs": [],
   "source": [
    "# tempo dividido entre duas filtragens:"
   ]
  },
  {
   "cell_type": "code",
   "execution_count": 11,
   "metadata": {},
   "outputs": [
    {
     "name": "stdout",
     "output_type": "stream",
     "text": [
      "N =  5\n"
     ]
    }
   ],
   "source": [
    "wp = np.array([freq_range[0] - 50, freq_range[1] + 50]) # lower freq. for bandpass filter \n",
    "ws = np.array([wp[0] - 50, wp[1] + 150]) # higher freq. for bandpass filter\n",
    "\n",
    "new_sr = stft_zoom.find_undersample_fs(ws) # if new_sr, an undersampling frequency was found\n",
    "\n",
    "wp = wp / (sr/2)\n",
    "ws = ws / (sr/2)\n",
    "    \n",
    "y_filt = stft_zoom.filter_bandpass(y, wp, ws, sr) # bandpass filter the signal    "
   ]
  },
  {
   "cell_type": "code",
   "execution_count": 46,
   "metadata": {},
   "outputs": [],
   "source": [
    "%lprun -f stft_zoom.filter_bandpass stft_zoom.filter_bandpass(y, wp, ws, sr)"
   ]
  },
  {
   "cell_type": "code",
   "execution_count": 7,
   "metadata": {},
   "outputs": [],
   "source": [
    "# 30% p/ criar o filtro, 70% para aplicar a filtragem"
   ]
  },
  {
   "cell_type": "code",
   "execution_count": 12,
   "metadata": {},
   "outputs": [],
   "source": [
    "new_sr = (ws[1] - ws[0] + 100/(sr/2)) * sr\n",
    "mod = stft_zoom.ring_mod(y_filt, ws[0]*(sr/2), sr)\n",
    "a = stft_zoom.filter_lowpass(mod, new_sr/2 - 100, sr), new_sr, ws[0]*(sr/2), False         "
   ]
  },
  {
   "cell_type": "code",
   "execution_count": 48,
   "metadata": {},
   "outputs": [],
   "source": [
    "%lprun -f stft_zoom.ring_mod stft_zoom.ring_mod(y_filt, ws[0]*(sr/2), sr)"
   ]
  },
  {
   "cell_type": "code",
   "execution_count": 8,
   "metadata": {},
   "outputs": [],
   "source": [
    "# 14 ms para fazer a modulaçao (filtro bandpass gasta 18ms)"
   ]
  },
  {
   "cell_type": "code",
   "execution_count": 50,
   "metadata": {},
   "outputs": [],
   "source": [
    "%lprun -f stft_zoom.filter_lowpass stft_zoom.filter_lowpass(mod, new_sr/2 - 100, sr)"
   ]
  },
  {
   "cell_type": "code",
   "execution_count": 51,
   "metadata": {},
   "outputs": [],
   "source": [
    "# praticamente o mesmo tempo da filtragem e distribuicao (50% criar filtro, 50% filtrar)"
   ]
  }
 ],
 "metadata": {
  "kernelspec": {
   "display_name": "Python 3",
   "language": "python",
   "name": "python3"
  },
  "language_info": {
   "codemirror_mode": {
    "name": "ipython",
    "version": 3
   },
   "file_extension": ".py",
   "mimetype": "text/x-python",
   "name": "python",
   "nbconvert_exporter": "python",
   "pygments_lexer": "ipython3",
   "version": "3.7.3"
  }
 },
 "nbformat": 4,
 "nbformat_minor": 4
}
