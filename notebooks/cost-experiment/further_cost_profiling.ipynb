{
 "cells": [
  {
   "cell_type": "code",
   "execution_count": 1,
   "metadata": {},
   "outputs": [
    {
     "name": "stderr",
     "output_type": "stream",
     "text": [
      "/Library/Python/3.7/site-packages/librosa/util/decorators.py:9: NumbaDeprecationWarning: An import was requested from a module that has moved location.\n",
      "Import requested from: 'numba.decorators', please update to use 'numba.core.decorators' or pin to Numba version 0.48.0. This alias will not be present in Numba version 0.50.0.\n",
      "  from numba.decorators import jit as optional_jit\n",
      "/Library/Python/3.7/site-packages/librosa/util/decorators.py:9: NumbaDeprecationWarning: An import was requested from a module that has moved location.\n",
      "Import of 'jit' requested from: 'numba.decorators', please update to use 'numba.core.decorators' or pin to Numba version 0.48.0. This alias will not be present in Numba version 0.50.0.\n",
      "  from numba.decorators import jit as optional_jit\n"
     ]
    }
   ],
   "source": [
    "import librosa\n",
    "import librosa.display\n",
    "import numpy as np\n",
    "import matplotlib.pyplot as plt\n",
    "import scipy.signal\n",
    "import math\n",
    "%matplotlib inline\n",
    "\n",
    "import sys\n",
    "sys.path.insert(0, '../../scripts')\n",
    "\n",
    "import stft_zoom, display, detect_musical_regions\n",
    "from util import *\n",
    "import mappings\n",
    "import pickle\n",
    "import PIL\n",
    "import IPython.display\n",
    "from classes import SingleResSpectrogram, MultiResSpectrogram"
   ]
  },
  {
   "cell_type": "code",
   "execution_count": 2,
   "metadata": {},
   "outputs": [],
   "source": [
    "sys.path.insert(0, '../../scripts/mauricio_solutions/')\n",
    "import lukin_todd, swgm, local_sparsity, util_m"
   ]
  },
  {
   "cell_type": "code",
   "execution_count": 3,
   "metadata": {},
   "outputs": [],
   "source": [
    "%load_ext line_profiler"
   ]
  },
  {
   "cell_type": "code",
   "execution_count": 4,
   "metadata": {},
   "outputs": [],
   "source": [
    "def calc_kernel_size(window_lengths, energy=False):\n",
    "    if energy:\n",
    "        P = 2\n",
    "    else:\n",
    "        P = 5\n",
    "    f_size = P * window_lengths[-1]/window_lengths[0]\n",
    "    if not f_size % 2 > 0:\n",
    "        f_size += 1\n",
    "    \n",
    "    return [int(f_size), 5]\n",
    "\n",
    "def LT(y, window_lengths, kernel):\n",
    "    specs = util_m.get_spectrograms(y, windows=window_lengths)\n",
    "    specs = util_m.interpol_and_normalize(specs)\n",
    "    return lukin_todd.lukin_todd(specs, kernel)\n",
    "\n",
    "def swgm_time(y, window_lengths):\n",
    "    specs = util_m.get_spectrograms(y, windows=window_lengths)\n",
    "    specs = util_m.interpol_and_normalize(specs)\n",
    "    return swgm.SWGM(specs)\n",
    "\n",
    "def SLS_time(y, window_lengths, kernel_anal, kernel_energy):\n",
    "    specs = util_m.get_spectrograms(y, windows=window_lengths)\n",
    "    specs = util_m.interpol_and_normalize(specs)\n",
    "    return local_sparsity.smoothed_local_sparsity(specs, kernel_anal, kernel_energy)\n",
    "\n",
    "def our_solution(y, res, kernel, model, sr=44100):\n",
    "    n_fft = 2048\n",
    "    spec = np.abs(librosa.stft(y, n_fft=n_fft))\n",
    "    time_span = [0,len(y)/sr]\n",
    "    x_axis, y_axis = stft_zoom.get_axes_values(sr, 0, time_span, spec.shape) \n",
    "    base_spec = SingleResSpectrogram(spec, x_axis, y_axis)\n",
    "    multires_spec = MultiResSpectrogram(base_spec)\n",
    "\n",
    "    indices, original_shape = detect_musical_regions.detect_musical_regions(model, spec, mode='threshold', pct_or_threshold=0.8)\n",
    "    to_be_refined = detect_musical_regions.musical_regions_to_ranges(indices, original_shape, x_axis, y_axis, kernel)\n",
    "\n",
    "    stft_zoom.set_signal_bank(y,kernel)\n",
    "\n",
    "    for subregion in to_be_refined:\n",
    "        freq_range = subregion[0]\n",
    "        time_range = subregion[1]\n",
    "        spec_zoom, x_axis, y_axis, new_sr, window_size, hop_size = stft_zoom.stft_zoom(y, freq_range, time_range, sr=sr, original_window_size=n_fft, k=res)\n",
    "        refined_subspec = SingleResSpectrogram(spec_zoom, x_axis, y_axis)\n",
    "        multires_spec.insert_zoom(multires_spec.base_spec, refined_subspec, zoom_level=1)\n",
    "        \n",
    "    return multires_spec"
   ]
  },
  {
   "cell_type": "code",
   "execution_count": 5,
   "metadata": {},
   "outputs": [],
   "source": [
    "file_name = '../../data/MIDI-Unprocessed_XP_09_R1_2004_05_ORIG_MID--AUDIO_09_R1_2004_06_Track06_wav.wav'\n",
    "y, sr = librosa.load(file_name, sr=44100)\n",
    "y = y[:44100*30]"
   ]
  },
  {
   "cell_type": "code",
   "execution_count": 6,
   "metadata": {},
   "outputs": [],
   "source": [
    "model_200 = pickle.load(open('../renyi_shannon_prollharm_200.sav', 'rb'))\n",
    "model_500 = pickle.load(open('../renyi_shannon_prollharm_500.sav', 'rb'))\n",
    "model_800 = pickle.load(open('../renyi_shannon_prollharm_800.sav', 'rb'))\n",
    "\n",
    "kernel = [800,800]"
   ]
  },
  {
   "cell_type": "code",
   "execution_count": 7,
   "metadata": {},
   "outputs": [
    {
     "name": "stdout",
     "output_type": "stream",
     "text": [
      " "
     ]
    }
   ],
   "source": [
    "%prun -s ncalls our_solution(y, 5, kernel, model_800)"
   ]
  },
  {
   "cell_type": "code",
   "execution_count": 36,
   "metadata": {},
   "outputs": [
    {
     "name": "stdout",
     "output_type": "stream",
     "text": [
      " "
     ]
    }
   ],
   "source": [
    "%prun -s ncalls swgm_time(y, [512, 1024, 4096])"
   ]
  },
  {
   "cell_type": "code",
   "execution_count": 8,
   "metadata": {},
   "outputs": [
    {
     "name": "stdout",
     "output_type": "stream",
     "text": [
      " "
     ]
    }
   ],
   "source": [
    "%prun librosa.stft(y, n_fft=512)"
   ]
  },
  {
   "cell_type": "code",
   "execution_count": 9,
   "metadata": {},
   "outputs": [
    {
     "name": "stdout",
     "output_type": "stream",
     "text": [
      " "
     ]
    }
   ],
   "source": [
    "%prun np.fft.rfft(y)"
   ]
  },
  {
   "cell_type": "code",
   "execution_count": 18,
   "metadata": {},
   "outputs": [],
   "source": [
    "a = [1,2,3]\n",
    "b = [4,4,4]"
   ]
  },
  {
   "cell_type": "code",
   "execution_count": 19,
   "metadata": {},
   "outputs": [
    {
     "data": {
      "text/plain": [
       "24"
      ]
     },
     "execution_count": 19,
     "metadata": {},
     "output_type": "execute_result"
    }
   ],
   "source": [
    "np.dot(a,b)"
   ]
  },
  {
   "cell_type": "code",
   "execution_count": 20,
   "metadata": {},
   "outputs": [
    {
     "name": "stdout",
     "output_type": "stream",
     "text": [
      " "
     ]
    }
   ],
   "source": [
    "%prun np.dot(a,b)"
   ]
  },
  {
   "cell_type": "code",
   "execution_count": 25,
   "metadata": {},
   "outputs": [],
   "source": [
    "def uma_funcao(a,b):\n",
    "    c = np.dot(a,b)\n",
    "    d = np.prod(a)\n",
    "    return c"
   ]
  },
  {
   "cell_type": "code",
   "execution_count": 27,
   "metadata": {},
   "outputs": [
    {
     "name": "stdout",
     "output_type": "stream",
     "text": [
      " "
     ]
    }
   ],
   "source": [
    "test = %prun -r uma_funcao(a,b)"
   ]
  },
  {
   "cell_type": "code",
   "execution_count": 39,
   "metadata": {},
   "outputs": [],
   "source": [
    "a = str(test)"
   ]
  },
  {
   "cell_type": "code",
   "execution_count": 43,
   "metadata": {},
   "outputs": [],
   "source": [
    "test.dump_stats('teste.txt')"
   ]
  },
  {
   "cell_type": "code",
   "execution_count": 44,
   "metadata": {},
   "outputs": [],
   "source": [
    "import pstats"
   ]
  },
  {
   "cell_type": "code",
   "execution_count": 45,
   "metadata": {},
   "outputs": [],
   "source": [
    "b = ''"
   ]
  },
  {
   "cell_type": "code",
   "execution_count": 47,
   "metadata": {},
   "outputs": [],
   "source": [
    "d = pstats.Stats('teste.txt', stream=b)"
   ]
  }
 ],
 "metadata": {
  "kernelspec": {
   "display_name": "Python 3",
   "language": "python",
   "name": "python3"
  },
  "language_info": {
   "codemirror_mode": {
    "name": "ipython",
    "version": 3
   },
   "file_extension": ".py",
   "mimetype": "text/x-python",
   "name": "python",
   "nbconvert_exporter": "python",
   "pygments_lexer": "ipython3",
   "version": "3.7.3"
  }
 },
 "nbformat": 4,
 "nbformat_minor": 4
}
