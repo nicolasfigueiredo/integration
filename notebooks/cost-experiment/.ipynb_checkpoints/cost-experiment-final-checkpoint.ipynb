{
 "cells": [
  {
   "cell_type": "code",
   "execution_count": 3,
   "metadata": {},
   "outputs": [
    {
     "name": "stderr",
     "output_type": "stream",
     "text": [
      "/Library/Python/3.7/site-packages/librosa/util/decorators.py:9: NumbaDeprecationWarning: An import was requested from a module that has moved location.\n",
      "Import requested from: 'numba.decorators', please update to use 'numba.core.decorators' or pin to Numba version 0.48.0. This alias will not be present in Numba version 0.50.0.\n",
      "  from numba.decorators import jit as optional_jit\n",
      "/Library/Python/3.7/site-packages/librosa/util/decorators.py:9: NumbaDeprecationWarning: An import was requested from a module that has moved location.\n",
      "Import of 'jit' requested from: 'numba.decorators', please update to use 'numba.core.decorators' or pin to Numba version 0.48.0. This alias will not be present in Numba version 0.50.0.\n",
      "  from numba.decorators import jit as optional_jit\n"
     ]
    }
   ],
   "source": [
    "import librosa\n",
    "import librosa.display\n",
    "import numpy as np\n",
    "import matplotlib.pyplot as plt\n",
    "import scipy.signal\n",
    "import math\n",
    "%matplotlib inline\n",
    "\n",
    "import sys\n",
    "sys.path.insert(0, '../../scripts')\n",
    "\n",
    "import stft_zoom, display, detect_musical_regions\n",
    "from util import *\n",
    "import mappings\n",
    "import pickle\n",
    "import PIL\n",
    "import IPython.display\n",
    "from classes import SingleResSpectrogram, MultiResSpectrogram\n",
    "\n",
    "import timeit\n",
    "import csv"
   ]
  },
  {
   "cell_type": "code",
   "execution_count": 4,
   "metadata": {},
   "outputs": [],
   "source": [
    "#do mauricio\n",
    "sys.path.insert(0, '../../scripts/mauricio_solutions/')\n",
    "import lukin_todd, swgm, local_sparsity, util_m"
   ]
  },
  {
   "cell_type": "code",
   "execution_count": 5,
   "metadata": {},
   "outputs": [],
   "source": [
    "from IPython.display import Audio\n",
    "sound_file = '/Users/nicolas/Downloads/camera.mp3'"
   ]
  },
  {
   "cell_type": "markdown",
   "metadata": {},
   "source": [
    "### A comparison of computational cost between different TFP representations\n",
    "\n",
    "#### STFT, CQT, Lukin & Todd, SWGM, SLS x our multiresolution spectrogram"
   ]
  },
  {
   "cell_type": "markdown",
   "metadata": {},
   "source": [
    "The objective is to evaluate the computational cost (execution CPU time and memory used) for a given max resolution of the representation, and to obtain a cost curve for these different representations.\n",
    "\n",
    "Parameters of this experiment are:\n",
    "\n",
    "    - max freq. resolution:  the cost of 86.13, 43.06, 21.53, 10.77, 5.38, 2.69 and 1.34 Hz per bin (the equivalent of using windows of [512, 1024, 2048, 4096, 8192, 16384, 32768] on a 44100 Hz sampled signal) will be evaluated\n",
    "    - files per data-point: 10 files?\n",
    "    - CQT parameters: fmin = 20, 10 octaves, resolution to match cents between 100-200Hz\n",
    "    - Lukin & Todd kernel size same as Mauricio kernel size \n",
    "    - Our subregion size: test several\n",
    "    - Normalization simplified"
   ]
  },
  {
   "cell_type": "code",
   "execution_count": 6,
   "metadata": {},
   "outputs": [],
   "source": [
    "def hz_to_cents(hz_resolution):\n",
    "    # Converts from Hz res to cent resolution in the octave from 100-200Hz\n",
    "    delta_f = 100\n",
    "    cent_delta_f = delta_f/1200\n",
    "    return hz_resolution / cent_delta_f\n",
    "\n",
    "def hz_to_binperoct(hz_resolution):\n",
    "    return int(np.ceil(1200 / hz_to_cents(hz_resolution)))"
   ]
  },
  {
   "cell_type": "code",
   "execution_count": 7,
   "metadata": {},
   "outputs": [],
   "source": [
    "def calc_kernel_size(window_lengths, energy=False):\n",
    "    if energy:\n",
    "        P = 2\n",
    "    else:\n",
    "        P = 5\n",
    "    f_size = P * window_lengths[-1]/window_lengths[0]\n",
    "    if not f_size % 2 > 0:\n",
    "        f_size += 1\n",
    "    \n",
    "    return [int(f_size), 5]\n",
    "\n",
    "def LT(y, window_lengths, kernel):\n",
    "    specs = util_m.get_spectrograms(y, windows=window_lengths)\n",
    "    specs = util_m.interpol_and_normalize(specs)\n",
    "    return lukin_todd.lukin_todd(specs, kernel)\n",
    "\n",
    "def swgm_time(y, window_lengths):\n",
    "    specs = util_m.get_spectrograms(y, windows=window_lengths)\n",
    "    specs = util_m.interpol_and_normalize(specs)\n",
    "    return swgm.SWGM(specs)\n",
    "\n",
    "def SLS_time(y, window_lengths, kernel_anal, kernel_energy):\n",
    "    specs = util_m.get_spectrograms(y, windows=window_lengths)\n",
    "    specs = util_m.interpol_and_normalize(specs)\n",
    "    return local_sparsity.smoothed_local_sparsity(specs, kernel_anal, kernel_energy)\n",
    "\n",
    "def our_solution(y, res, sr=44100):\n",
    "    n_fft = 2048\n",
    "    kernel = [500,500]\n",
    "    spec = np.abs(librosa.stft(y, n_fft=n_fft))\n",
    "    time_span = [0,len(y)/sr]\n",
    "    x_axis, y_axis = stft_zoom.get_axes_values(sr, 0, time_span, spec.shape) \n",
    "    base_spec = SingleResSpectrogram(spec, x_axis, y_axis)\n",
    "    multires_spec = MultiResSpectrogram(base_spec)\n",
    "\n",
    "    indices, original_shape = detect_musical_regions.detect_musical_regions(model, spec, mode='threshold', pct_or_threshold=0.8)\n",
    "    to_be_refined = detect_musical_regions.musical_regions_to_ranges(indices, original_shape, x_axis, y_axis, kernel)\n",
    "\n",
    "    stft_zoom.set_signal_bank(y,kernel)\n",
    "\n",
    "    for subregion in to_be_refined:\n",
    "        freq_range = subregion[0]\n",
    "        time_range = subregion[1]\n",
    "        spec_zoom, x_axis, y_axis, new_sr, window_size, hop_size = stft_zoom.stft_zoom(y, freq_range, time_range, sr=sr, original_window_size=n_fft, k=res)\n",
    "        refined_subspec = SingleResSpectrogram(spec_zoom, x_axis, y_axis)\n",
    "        multires_spec.insert_zoom(multires_spec.base_spec, refined_subspec, zoom_level=1)"
   ]
  },
  {
   "cell_type": "code",
   "execution_count": 8,
   "metadata": {},
   "outputs": [],
   "source": [
    "file_name = '../../data/example.wav'\n",
    "y, sr = librosa.load(file_name, sr=44100)\n",
    "y = y[:44100*2]"
   ]
  },
  {
   "cell_type": "code",
   "execution_count": 9,
   "metadata": {},
   "outputs": [
    {
     "name": "stderr",
     "output_type": "stream",
     "text": [
      "/Library/Python/3.7/site-packages/sklearn/base.py:318: UserWarning: Trying to unpickle estimator GaussianNB from version 0.19.0 when using version 0.22.2.post1. This might lead to breaking code or invalid results. Use at your own risk.\n",
      "  UserWarning)\n"
     ]
    }
   ],
   "source": [
    "res_hz = [86.13, 43.06, 21.53, 10.77, 5.38, 2.69, 1.34]\n",
    "res_window = [512, 1024, 2048, 4096, 8192, 16384, 32768]\n",
    "model = pickle.load(open('../renyi_shannon_prollharm_model.sav', 'rb'))"
   ]
  },
  {
   "cell_type": "code",
   "execution_count": 13,
   "metadata": {},
   "outputs": [
    {
     "name": "stdout",
     "output_type": "stream",
     "text": [
      "512\n",
      "2.97 ms ± 523 µs per loop (mean ± std. dev. of 3 runs, 3 loops each)\n",
      "50.5 ms ± 1.99 ms per loop (mean ± std. dev. of 3 runs, 3 loops each)\n",
      "5.93 s ± 0 ns per loop (mean ± std. dev. of 1 run, 1 loop each)\n",
      "8.1 ms ± 311 µs per loop (mean ± std. dev. of 3 runs, 3 loops each)\n",
      "10.2 s ± 0 ns per loop (mean ± std. dev. of 1 run, 1 loop each)\n",
      "77.5 ms ± 1.69 ms per loop (mean ± std. dev. of 3 runs, 3 loops each)\n",
      "1024\n",
      "3.15 ms ± 548 µs per loop (mean ± std. dev. of 3 runs, 3 loops each)\n",
      "51.4 ms ± 1.26 ms per loop (mean ± std. dev. of 3 runs, 3 loops each)\n",
      "11.8 s ± 0 ns per loop (mean ± std. dev. of 1 run, 1 loop each)\n",
      "13.8 ms ± 292 µs per loop (mean ± std. dev. of 3 runs, 3 loops each)\n",
      "21.3 s ± 0 ns per loop (mean ± std. dev. of 1 run, 1 loop each)\n",
      "76.6 ms ± 1.66 ms per loop (mean ± std. dev. of 3 runs, 3 loops each)\n",
      "2048\n",
      "3.13 ms ± 294 µs per loop (mean ± std. dev. of 3 runs, 3 loops each)\n",
      "52.9 ms ± 2.34 ms per loop (mean ± std. dev. of 3 runs, 3 loops each)\n",
      "24.6 s ± 0 ns per loop (mean ± std. dev. of 1 run, 1 loop each)\n",
      "30.2 ms ± 2.45 ms per loop (mean ± std. dev. of 3 runs, 3 loops each)\n",
      "43.5 s ± 0 ns per loop (mean ± std. dev. of 1 run, 1 loop each)\n",
      "77.9 ms ± 1.88 ms per loop (mean ± std. dev. of 3 runs, 3 loops each)\n",
      "4096\n",
      "2.92 ms ± 281 µs per loop (mean ± std. dev. of 3 runs, 3 loops each)\n",
      "56.9 ms ± 1.13 ms per loop (mean ± std. dev. of 3 runs, 3 loops each)\n",
      "49.9 s ± 0 ns per loop (mean ± std. dev. of 1 run, 1 loop each)\n",
      "62.1 ms ± 3.72 ms per loop (mean ± std. dev. of 3 runs, 3 loops each)\n",
      "1min 28s ± 0 ns per loop (mean ± std. dev. of 1 run, 1 loop each)\n",
      "77.7 ms ± 2.12 ms per loop (mean ± std. dev. of 3 runs, 3 loops each)\n",
      "8192\n",
      "3.46 ms ± 368 µs per loop (mean ± std. dev. of 3 runs, 3 loops each)\n",
      "65.2 ms ± 3.32 ms per loop (mean ± std. dev. of 3 runs, 3 loops each)\n",
      "1min 40s ± 0 ns per loop (mean ± std. dev. of 1 run, 1 loop each)\n",
      "122 ms ± 5.92 ms per loop (mean ± std. dev. of 3 runs, 3 loops each)\n",
      "2min 58s ± 0 ns per loop (mean ± std. dev. of 1 run, 1 loop each)\n",
      "77.9 ms ± 2.36 ms per loop (mean ± std. dev. of 3 runs, 3 loops each)\n",
      "16384\n",
      "4.37 ms ± 468 µs per loop (mean ± std. dev. of 3 runs, 3 loops each)\n",
      "82.2 ms ± 1.85 ms per loop (mean ± std. dev. of 3 runs, 3 loops each)\n",
      "3min 21s ± 0 ns per loop (mean ± std. dev. of 1 run, 1 loop each)\n",
      "259 ms ± 3.47 ms per loop (mean ± std. dev. of 3 runs, 3 loops each)\n",
      "5min 57s ± 0 ns per loop (mean ± std. dev. of 1 run, 1 loop each)\n",
      "78.1 ms ± 2.91 ms per loop (mean ± std. dev. of 3 runs, 3 loops each)\n",
      "32768\n",
      "5.58 ms ± 388 µs per loop (mean ± std. dev. of 3 runs, 3 loops each)\n",
      "119 ms ± 3.67 ms per loop (mean ± std. dev. of 3 runs, 3 loops each)\n",
      "6min 42s ± 0 ns per loop (mean ± std. dev. of 1 run, 1 loop each)\n",
      "554 ms ± 3.43 ms per loop (mean ± std. dev. of 3 runs, 3 loops each)\n",
      "11min 55s ± 0 ns per loop (mean ± std. dev. of 1 run, 1 loop each)\n",
      "80.1 ms ± 7.39 ms per loop (mean ± std. dev. of 3 runs, 3 loops each)\n"
     ]
    }
   ],
   "source": [
    "for i in range(len(res_window)):\n",
    "    #STFT\n",
    "    res = res_window[i]\n",
    "    print(res)\n",
    "    result_stft = %timeit -n 3 -r 3 -o librosa.stft(y, n_fft=res)\n",
    "    #CQT\n",
    "    bpo = hz_to_binperoct(res_hz[i])\n",
    "    result_cqt = %timeit -n 3 -r 3 -o librosa.cqt(y, sr=sr, bins_per_octave=bpo, fmin=20, n_bins=10*bpo)\n",
    "    # LUKIN-TODD, SLS, SWGM\n",
    "    max_window = res_window[i]\n",
    "    window_lengths = [int(max_window/8), int(max_window/2), max_window]\n",
    "    kernel_anal = calc_kernel_size(window_lengths)\n",
    "    kernel_energy = calc_kernel_size(window_lengths, energy=True)\n",
    "    result_LT = %timeit -n 1 -r 1 -o LT(y, window_lengths, kernel_anal)\n",
    "    result_SWGM = %timeit -n 3 -r 3 -o swgm_time(y, window_lengths)\n",
    "    result_SLS = %timeit -n 1 -r 1 -o SLS_time(y, window_lengths, kernel_anal, kernel_energy)\n",
    "    # OUR SOLUTION\n",
    "    res = np.max([int(res_window[i] // 2048), 1])\n",
    "    result_OURS = %timeit -n 3 -r 3 -o our_solution(y, res)\n",
    "    \n",
    "    result_file = 'results_' + str(res_window[i]) + '.csv'\n",
    "\n",
    "    with open(result_file, 'a') as csvfile:\n",
    "        writer = csv.writer(csvfile, delimiter=';')\n",
    "        writer.writerow(['STFT', str(result_stft)])\n",
    "        writer.writerow(['CQT', str(result_cqt)])\n",
    "        writer.writerow(['LT', str(result_LT)])\n",
    "        writer.writerow(['SWGM', str(result_SWGM)])\n",
    "        writer.writerow(['SLS', str(result_SLS)])\n",
    "        writer.writerow(['OURS', str(result_OURS)])\n",
    "    "
   ]
  },
  {
   "cell_type": "code",
   "execution_count": 20,
   "metadata": {},
   "outputs": [],
   "source": [
    "file_name = '../../data/MIDI-Unprocessed_R1_D1-1-8_mid--AUDIO-from_mp3_03_R1_2015_wav--2.wav'\n",
    "y, sr = librosa.load(file_name, sr=44100)\n",
    "y = y[len(y)//2:len(y)//2+30*sr]"
   ]
  },
  {
   "cell_type": "code",
   "execution_count": 21,
   "metadata": {},
   "outputs": [
    {
     "name": "stdout",
     "output_type": "stream",
     "text": [
      "1min 22s ± 0 ns per loop (mean ± std. dev. of 1 run, 1 loop each)\n",
      "2min 33s ± 0 ns per loop (mean ± std. dev. of 1 run, 1 loop each)\n",
      "2min 59s ± 0 ns per loop (mean ± std. dev. of 1 run, 1 loop each)\n",
      "5min 25s ± 0 ns per loop (mean ± std. dev. of 1 run, 1 loop each)\n",
      "6min 15s ± 0 ns per loop (mean ± std. dev. of 1 run, 1 loop each)\n",
      "11min 10s ± 0 ns per loop (mean ± std. dev. of 1 run, 1 loop each)\n",
      "12min 46s ± 0 ns per loop (mean ± std. dev. of 1 run, 1 loop each)\n",
      "22min 41s ± 0 ns per loop (mean ± std. dev. of 1 run, 1 loop each)\n",
      "25min 40s ± 0 ns per loop (mean ± std. dev. of 1 run, 1 loop each)\n",
      "45min 43s ± 0 ns per loop (mean ± std. dev. of 1 run, 1 loop each)\n",
      "51min 13s ± 0 ns per loop (mean ± std. dev. of 1 run, 1 loop each)\n",
      "1h 32min 47s ± 0 ns per loop (mean ± std. dev. of 1 run, 1 loop each)\n"
     ]
    },
    {
     "ename": "KeyboardInterrupt",
     "evalue": "",
     "output_type": "error",
     "traceback": [
      "\u001b[0;31m---------------------------------------------------------------------------\u001b[0m",
      "\u001b[0;31mKeyboardInterrupt\u001b[0m                         Traceback (most recent call last)",
      "\u001b[0;32m<ipython-input-21-4d813cff4726>\u001b[0m in \u001b[0;36m<module>\u001b[0;34m\u001b[0m\n\u001b[1;32m     12\u001b[0m     \u001b[0mkernel_anal\u001b[0m \u001b[0;34m=\u001b[0m \u001b[0mcalc_kernel_size\u001b[0m\u001b[0;34m(\u001b[0m\u001b[0mwindow_lengths\u001b[0m\u001b[0;34m)\u001b[0m\u001b[0;34m\u001b[0m\u001b[0;34m\u001b[0m\u001b[0m\n\u001b[1;32m     13\u001b[0m     \u001b[0mkernel_energy\u001b[0m \u001b[0;34m=\u001b[0m \u001b[0mcalc_kernel_size\u001b[0m\u001b[0;34m(\u001b[0m\u001b[0mwindow_lengths\u001b[0m\u001b[0;34m,\u001b[0m \u001b[0menergy\u001b[0m\u001b[0;34m=\u001b[0m\u001b[0;32mTrue\u001b[0m\u001b[0;34m)\u001b[0m\u001b[0;34m\u001b[0m\u001b[0;34m\u001b[0m\u001b[0m\n\u001b[0;32m---> 14\u001b[0;31m     \u001b[0mresult_LT\u001b[0m \u001b[0;34m=\u001b[0m \u001b[0mget_ipython\u001b[0m\u001b[0;34m(\u001b[0m\u001b[0;34m)\u001b[0m\u001b[0;34m.\u001b[0m\u001b[0mrun_line_magic\u001b[0m\u001b[0;34m(\u001b[0m\u001b[0;34m'timeit'\u001b[0m\u001b[0;34m,\u001b[0m \u001b[0;34m'-n 1 -r 1 -o LT(y, window_lengths, kernel_anal)'\u001b[0m\u001b[0;34m)\u001b[0m\u001b[0;34m\u001b[0m\u001b[0;34m\u001b[0m\u001b[0m\n\u001b[0m\u001b[1;32m     15\u001b[0m \u001b[0;31m#     result_SWGM = %timeit -n 3 -r 3 -o swgm_time(y, window_lengths)\u001b[0m\u001b[0;34m\u001b[0m\u001b[0;34m\u001b[0m\u001b[0;34m\u001b[0m\u001b[0m\n\u001b[1;32m     16\u001b[0m     \u001b[0mresult_SLS\u001b[0m \u001b[0;34m=\u001b[0m \u001b[0mget_ipython\u001b[0m\u001b[0;34m(\u001b[0m\u001b[0;34m)\u001b[0m\u001b[0;34m.\u001b[0m\u001b[0mrun_line_magic\u001b[0m\u001b[0;34m(\u001b[0m\u001b[0;34m'timeit'\u001b[0m\u001b[0;34m,\u001b[0m \u001b[0;34m'-n 1 -r 1 -o SLS_time(y, window_lengths, kernel_anal, kernel_energy)'\u001b[0m\u001b[0;34m)\u001b[0m\u001b[0;34m\u001b[0m\u001b[0;34m\u001b[0m\u001b[0m\n",
      "\u001b[0;32m~/Library/Python/3.7/lib/python/site-packages/IPython/core/interactiveshell.py\u001b[0m in \u001b[0;36mrun_line_magic\u001b[0;34m(self, magic_name, line, _stack_depth)\u001b[0m\n\u001b[1;32m   2315\u001b[0m                 \u001b[0mkwargs\u001b[0m\u001b[0;34m[\u001b[0m\u001b[0;34m'local_ns'\u001b[0m\u001b[0;34m]\u001b[0m \u001b[0;34m=\u001b[0m \u001b[0msys\u001b[0m\u001b[0;34m.\u001b[0m\u001b[0m_getframe\u001b[0m\u001b[0;34m(\u001b[0m\u001b[0mstack_depth\u001b[0m\u001b[0;34m)\u001b[0m\u001b[0;34m.\u001b[0m\u001b[0mf_locals\u001b[0m\u001b[0;34m\u001b[0m\u001b[0;34m\u001b[0m\u001b[0m\n\u001b[1;32m   2316\u001b[0m             \u001b[0;32mwith\u001b[0m \u001b[0mself\u001b[0m\u001b[0;34m.\u001b[0m\u001b[0mbuiltin_trap\u001b[0m\u001b[0;34m:\u001b[0m\u001b[0;34m\u001b[0m\u001b[0;34m\u001b[0m\u001b[0m\n\u001b[0;32m-> 2317\u001b[0;31m                 \u001b[0mresult\u001b[0m \u001b[0;34m=\u001b[0m \u001b[0mfn\u001b[0m\u001b[0;34m(\u001b[0m\u001b[0;34m*\u001b[0m\u001b[0margs\u001b[0m\u001b[0;34m,\u001b[0m \u001b[0;34m**\u001b[0m\u001b[0mkwargs\u001b[0m\u001b[0;34m)\u001b[0m\u001b[0;34m\u001b[0m\u001b[0;34m\u001b[0m\u001b[0m\n\u001b[0m\u001b[1;32m   2318\u001b[0m             \u001b[0;32mreturn\u001b[0m \u001b[0mresult\u001b[0m\u001b[0;34m\u001b[0m\u001b[0;34m\u001b[0m\u001b[0m\n\u001b[1;32m   2319\u001b[0m \u001b[0;34m\u001b[0m\u001b[0m\n",
      "\u001b[0;32m<decorator-gen-60>\u001b[0m in \u001b[0;36mtimeit\u001b[0;34m(self, line, cell, local_ns)\u001b[0m\n",
      "\u001b[0;32m~/Library/Python/3.7/lib/python/site-packages/IPython/core/magic.py\u001b[0m in \u001b[0;36m<lambda>\u001b[0;34m(f, *a, **k)\u001b[0m\n\u001b[1;32m    185\u001b[0m     \u001b[0;31m# but it's overkill for just that one bit of state.\u001b[0m\u001b[0;34m\u001b[0m\u001b[0;34m\u001b[0m\u001b[0;34m\u001b[0m\u001b[0m\n\u001b[1;32m    186\u001b[0m     \u001b[0;32mdef\u001b[0m \u001b[0mmagic_deco\u001b[0m\u001b[0;34m(\u001b[0m\u001b[0marg\u001b[0m\u001b[0;34m)\u001b[0m\u001b[0;34m:\u001b[0m\u001b[0;34m\u001b[0m\u001b[0;34m\u001b[0m\u001b[0m\n\u001b[0;32m--> 187\u001b[0;31m         \u001b[0mcall\u001b[0m \u001b[0;34m=\u001b[0m \u001b[0;32mlambda\u001b[0m \u001b[0mf\u001b[0m\u001b[0;34m,\u001b[0m \u001b[0;34m*\u001b[0m\u001b[0ma\u001b[0m\u001b[0;34m,\u001b[0m \u001b[0;34m**\u001b[0m\u001b[0mk\u001b[0m\u001b[0;34m:\u001b[0m \u001b[0mf\u001b[0m\u001b[0;34m(\u001b[0m\u001b[0;34m*\u001b[0m\u001b[0ma\u001b[0m\u001b[0;34m,\u001b[0m \u001b[0;34m**\u001b[0m\u001b[0mk\u001b[0m\u001b[0;34m)\u001b[0m\u001b[0;34m\u001b[0m\u001b[0;34m\u001b[0m\u001b[0m\n\u001b[0m\u001b[1;32m    188\u001b[0m \u001b[0;34m\u001b[0m\u001b[0m\n\u001b[1;32m    189\u001b[0m         \u001b[0;32mif\u001b[0m \u001b[0mcallable\u001b[0m\u001b[0;34m(\u001b[0m\u001b[0marg\u001b[0m\u001b[0;34m)\u001b[0m\u001b[0;34m:\u001b[0m\u001b[0;34m\u001b[0m\u001b[0;34m\u001b[0m\u001b[0m\n",
      "\u001b[0;32m~/Library/Python/3.7/lib/python/site-packages/IPython/core/magics/execution.py\u001b[0m in \u001b[0;36mtimeit\u001b[0;34m(self, line, cell, local_ns)\u001b[0m\n\u001b[1;32m   1162\u001b[0m                     \u001b[0;32mbreak\u001b[0m\u001b[0;34m\u001b[0m\u001b[0;34m\u001b[0m\u001b[0m\n\u001b[1;32m   1163\u001b[0m \u001b[0;34m\u001b[0m\u001b[0m\n\u001b[0;32m-> 1164\u001b[0;31m         \u001b[0mall_runs\u001b[0m \u001b[0;34m=\u001b[0m \u001b[0mtimer\u001b[0m\u001b[0;34m.\u001b[0m\u001b[0mrepeat\u001b[0m\u001b[0;34m(\u001b[0m\u001b[0mrepeat\u001b[0m\u001b[0;34m,\u001b[0m \u001b[0mnumber\u001b[0m\u001b[0;34m)\u001b[0m\u001b[0;34m\u001b[0m\u001b[0;34m\u001b[0m\u001b[0m\n\u001b[0m\u001b[1;32m   1165\u001b[0m         \u001b[0mbest\u001b[0m \u001b[0;34m=\u001b[0m \u001b[0mmin\u001b[0m\u001b[0;34m(\u001b[0m\u001b[0mall_runs\u001b[0m\u001b[0;34m)\u001b[0m \u001b[0;34m/\u001b[0m \u001b[0mnumber\u001b[0m\u001b[0;34m\u001b[0m\u001b[0;34m\u001b[0m\u001b[0m\n\u001b[1;32m   1166\u001b[0m         \u001b[0mworst\u001b[0m \u001b[0;34m=\u001b[0m \u001b[0mmax\u001b[0m\u001b[0;34m(\u001b[0m\u001b[0mall_runs\u001b[0m\u001b[0;34m)\u001b[0m \u001b[0;34m/\u001b[0m \u001b[0mnumber\u001b[0m\u001b[0;34m\u001b[0m\u001b[0;34m\u001b[0m\u001b[0m\n",
      "\u001b[0;32m/Library/Developer/CommandLineTools/Library/Frameworks/Python3.framework/Versions/3.7/lib/python3.7/timeit.py\u001b[0m in \u001b[0;36mrepeat\u001b[0;34m(self, repeat, number)\u001b[0m\n\u001b[1;32m    202\u001b[0m         \u001b[0mr\u001b[0m \u001b[0;34m=\u001b[0m \u001b[0;34m[\u001b[0m\u001b[0;34m]\u001b[0m\u001b[0;34m\u001b[0m\u001b[0;34m\u001b[0m\u001b[0m\n\u001b[1;32m    203\u001b[0m         \u001b[0;32mfor\u001b[0m \u001b[0mi\u001b[0m \u001b[0;32min\u001b[0m \u001b[0mrange\u001b[0m\u001b[0;34m(\u001b[0m\u001b[0mrepeat\u001b[0m\u001b[0;34m)\u001b[0m\u001b[0;34m:\u001b[0m\u001b[0;34m\u001b[0m\u001b[0;34m\u001b[0m\u001b[0m\n\u001b[0;32m--> 204\u001b[0;31m             \u001b[0mt\u001b[0m \u001b[0;34m=\u001b[0m \u001b[0mself\u001b[0m\u001b[0;34m.\u001b[0m\u001b[0mtimeit\u001b[0m\u001b[0;34m(\u001b[0m\u001b[0mnumber\u001b[0m\u001b[0;34m)\u001b[0m\u001b[0;34m\u001b[0m\u001b[0;34m\u001b[0m\u001b[0m\n\u001b[0m\u001b[1;32m    205\u001b[0m             \u001b[0mr\u001b[0m\u001b[0;34m.\u001b[0m\u001b[0mappend\u001b[0m\u001b[0;34m(\u001b[0m\u001b[0mt\u001b[0m\u001b[0;34m)\u001b[0m\u001b[0;34m\u001b[0m\u001b[0;34m\u001b[0m\u001b[0m\n\u001b[1;32m    206\u001b[0m         \u001b[0;32mreturn\u001b[0m \u001b[0mr\u001b[0m\u001b[0;34m\u001b[0m\u001b[0;34m\u001b[0m\u001b[0m\n",
      "\u001b[0;32m~/Library/Python/3.7/lib/python/site-packages/IPython/core/magics/execution.py\u001b[0m in \u001b[0;36mtimeit\u001b[0;34m(self, number)\u001b[0m\n\u001b[1;32m    167\u001b[0m         \u001b[0mgc\u001b[0m\u001b[0;34m.\u001b[0m\u001b[0mdisable\u001b[0m\u001b[0;34m(\u001b[0m\u001b[0;34m)\u001b[0m\u001b[0;34m\u001b[0m\u001b[0;34m\u001b[0m\u001b[0m\n\u001b[1;32m    168\u001b[0m         \u001b[0;32mtry\u001b[0m\u001b[0;34m:\u001b[0m\u001b[0;34m\u001b[0m\u001b[0;34m\u001b[0m\u001b[0m\n\u001b[0;32m--> 169\u001b[0;31m             \u001b[0mtiming\u001b[0m \u001b[0;34m=\u001b[0m \u001b[0mself\u001b[0m\u001b[0;34m.\u001b[0m\u001b[0minner\u001b[0m\u001b[0;34m(\u001b[0m\u001b[0mit\u001b[0m\u001b[0;34m,\u001b[0m \u001b[0mself\u001b[0m\u001b[0;34m.\u001b[0m\u001b[0mtimer\u001b[0m\u001b[0;34m)\u001b[0m\u001b[0;34m\u001b[0m\u001b[0;34m\u001b[0m\u001b[0m\n\u001b[0m\u001b[1;32m    170\u001b[0m         \u001b[0;32mfinally\u001b[0m\u001b[0;34m:\u001b[0m\u001b[0;34m\u001b[0m\u001b[0;34m\u001b[0m\u001b[0m\n\u001b[1;32m    171\u001b[0m             \u001b[0;32mif\u001b[0m \u001b[0mgcold\u001b[0m\u001b[0;34m:\u001b[0m\u001b[0;34m\u001b[0m\u001b[0;34m\u001b[0m\u001b[0m\n",
      "\u001b[0;32m<magic-timeit>\u001b[0m in \u001b[0;36minner\u001b[0;34m(_it, _timer)\u001b[0m\n",
      "\u001b[0;32m<ipython-input-7-e835cc9e3e4b>\u001b[0m in \u001b[0;36mLT\u001b[0;34m(y, window_lengths, kernel)\u001b[0m\n\u001b[1;32m     13\u001b[0m     \u001b[0mspecs\u001b[0m \u001b[0;34m=\u001b[0m \u001b[0mutil_m\u001b[0m\u001b[0;34m.\u001b[0m\u001b[0mget_spectrograms\u001b[0m\u001b[0;34m(\u001b[0m\u001b[0my\u001b[0m\u001b[0;34m,\u001b[0m \u001b[0mwindows\u001b[0m\u001b[0;34m=\u001b[0m\u001b[0mwindow_lengths\u001b[0m\u001b[0;34m)\u001b[0m\u001b[0;34m\u001b[0m\u001b[0;34m\u001b[0m\u001b[0m\n\u001b[1;32m     14\u001b[0m     \u001b[0mspecs\u001b[0m \u001b[0;34m=\u001b[0m \u001b[0mutil_m\u001b[0m\u001b[0;34m.\u001b[0m\u001b[0minterpol_and_normalize\u001b[0m\u001b[0;34m(\u001b[0m\u001b[0mspecs\u001b[0m\u001b[0;34m)\u001b[0m\u001b[0;34m\u001b[0m\u001b[0;34m\u001b[0m\u001b[0m\n\u001b[0;32m---> 15\u001b[0;31m     \u001b[0;32mreturn\u001b[0m \u001b[0mlukin_todd\u001b[0m\u001b[0;34m.\u001b[0m\u001b[0mlukin_todd\u001b[0m\u001b[0;34m(\u001b[0m\u001b[0mspecs\u001b[0m\u001b[0;34m,\u001b[0m \u001b[0mkernel\u001b[0m\u001b[0;34m)\u001b[0m\u001b[0;34m\u001b[0m\u001b[0;34m\u001b[0m\u001b[0m\n\u001b[0m\u001b[1;32m     16\u001b[0m \u001b[0;34m\u001b[0m\u001b[0m\n\u001b[1;32m     17\u001b[0m \u001b[0;32mdef\u001b[0m \u001b[0mswgm_time\u001b[0m\u001b[0;34m(\u001b[0m\u001b[0my\u001b[0m\u001b[0;34m,\u001b[0m \u001b[0mwindow_lengths\u001b[0m\u001b[0;34m)\u001b[0m\u001b[0;34m:\u001b[0m\u001b[0;34m\u001b[0m\u001b[0;34m\u001b[0m\u001b[0m\n",
      "\u001b[0;32m~/Documents/ime/compmus/mestrado/git/integration/scripts/mauricio_solutions/lukin_todd.py\u001b[0m in \u001b[0;36mlukin_todd\u001b[0;34m(specs, kernel_size, eta)\u001b[0m\n\u001b[1;32m      8\u001b[0m     \"\"\"\n\u001b[1;32m      9\u001b[0m     \u001b[0mwindow\u001b[0m \u001b[0;34m=\u001b[0m \u001b[0mnp\u001b[0m\u001b[0;34m.\u001b[0m\u001b[0mones\u001b[0m\u001b[0;34m(\u001b[0m\u001b[0mkernel_size\u001b[0m\u001b[0;34m)\u001b[0m\u001b[0;34m\u001b[0m\u001b[0;34m\u001b[0m\u001b[0m\n\u001b[0;32m---> 10\u001b[0;31m     \u001b[0msparsities\u001b[0m \u001b[0;34m=\u001b[0m \u001b[0msparsity\u001b[0m\u001b[0;34m.\u001b[0m\u001b[0mget_sparsities\u001b[0m\u001b[0;34m(\u001b[0m\u001b[0mspecs\u001b[0m\u001b[0;34m,\u001b[0m \u001b[0mwindow\u001b[0m\u001b[0;34m,\u001b[0m \u001b[0mmode\u001b[0m\u001b[0;34m=\u001b[0m\u001b[0;34m'lukin todd'\u001b[0m\u001b[0;34m)\u001b[0m\u001b[0;34m\u001b[0m\u001b[0;34m\u001b[0m\u001b[0m\n\u001b[0m\u001b[1;32m     11\u001b[0m     \u001b[0mmultires_spec\u001b[0m \u001b[0;34m=\u001b[0m \u001b[0mnp\u001b[0m\u001b[0;34m.\u001b[0m\u001b[0msum\u001b[0m\u001b[0;34m(\u001b[0m\u001b[0mspecs\u001b[0m \u001b[0;34m*\u001b[0m \u001b[0;34m(\u001b[0m\u001b[0msparsities\u001b[0m \u001b[0;34m**\u001b[0m \u001b[0meta\u001b[0m\u001b[0;34m)\u001b[0m \u001b[0;34m/\u001b[0m \u001b[0mnp\u001b[0m\u001b[0;34m.\u001b[0m\u001b[0msum\u001b[0m\u001b[0;34m(\u001b[0m\u001b[0;34m(\u001b[0m\u001b[0msparsities\u001b[0m \u001b[0;34m**\u001b[0m \u001b[0meta\u001b[0m\u001b[0;34m)\u001b[0m\u001b[0;34m)\u001b[0m\u001b[0;34m,\u001b[0m \u001b[0maxis\u001b[0m\u001b[0;34m=\u001b[0m\u001b[0;36m0\u001b[0m\u001b[0;34m)\u001b[0m\u001b[0;34m\u001b[0m\u001b[0;34m\u001b[0m\u001b[0m\n\u001b[1;32m     12\u001b[0m     \u001b[0;32mreturn\u001b[0m \u001b[0mmultires_spec\u001b[0m\u001b[0;34m\u001b[0m\u001b[0;34m\u001b[0m\u001b[0m\n",
      "\u001b[0;32m~/Documents/ime/compmus/mestrado/git/integration/scripts/mauricio_solutions/sparsity.py\u001b[0m in \u001b[0;36mget_sparsities\u001b[0;34m(specs, window, mode)\u001b[0m\n\u001b[1;32m     28\u001b[0m         \u001b[0msparsities\u001b[0m \u001b[0;34m=\u001b[0m \u001b[0;34m[\u001b[0m\u001b[0;34m]\u001b[0m\u001b[0;34m\u001b[0m\u001b[0;34m\u001b[0m\u001b[0m\n\u001b[1;32m     29\u001b[0m         \u001b[0;32mfor\u001b[0m \u001b[0mspec\u001b[0m \u001b[0;32min\u001b[0m \u001b[0mspecs\u001b[0m\u001b[0;34m:\u001b[0m\u001b[0;34m\u001b[0m\u001b[0;34m\u001b[0m\u001b[0m\n\u001b[0;32m---> 30\u001b[0;31m             \u001b[0msparsities\u001b[0m\u001b[0;34m.\u001b[0m\u001b[0mappend\u001b[0m\u001b[0;34m(\u001b[0m\u001b[0mcalc_sparsity\u001b[0m\u001b[0;34m(\u001b[0m\u001b[0mspec\u001b[0m\u001b[0;34m,\u001b[0m \u001b[0mwindow\u001b[0m\u001b[0;34m,\u001b[0m \u001b[0mmode\u001b[0m\u001b[0;34m=\u001b[0m\u001b[0mmode\u001b[0m\u001b[0;34m)\u001b[0m\u001b[0;34m)\u001b[0m\u001b[0;34m\u001b[0m\u001b[0;34m\u001b[0m\u001b[0m\n\u001b[0m\u001b[1;32m     31\u001b[0m         \u001b[0;32mreturn\u001b[0m \u001b[0mnp\u001b[0m\u001b[0;34m.\u001b[0m\u001b[0marray\u001b[0m\u001b[0;34m(\u001b[0m\u001b[0msparsities\u001b[0m\u001b[0;34m)\u001b[0m\u001b[0;34m\u001b[0m\u001b[0;34m\u001b[0m\u001b[0m\n\u001b[1;32m     32\u001b[0m \u001b[0;34m\u001b[0m\u001b[0m\n",
      "\u001b[0;32m~/Documents/ime/compmus/mestrado/git/integration/scripts/mauricio_solutions/sparsity.py\u001b[0m in \u001b[0;36mcalc_sparsity\u001b[0;34m(spec, window, mode)\u001b[0m\n\u001b[1;32m     17\u001b[0m                 \u001b[0msubregion\u001b[0m \u001b[0;34m=\u001b[0m \u001b[0mspec\u001b[0m\u001b[0;34m[\u001b[0m\u001b[0mi\u001b[0m\u001b[0;34m-\u001b[0m\u001b[0mguard_rows\u001b[0m\u001b[0;34m:\u001b[0m\u001b[0mi\u001b[0m\u001b[0;34m+\u001b[0m\u001b[0mguard_rows\u001b[0m\u001b[0;34m+\u001b[0m\u001b[0;36m1\u001b[0m\u001b[0;34m,\u001b[0m \u001b[0mj\u001b[0m\u001b[0;34m-\u001b[0m\u001b[0mguard_cols\u001b[0m\u001b[0;34m:\u001b[0m\u001b[0mj\u001b[0m\u001b[0;34m+\u001b[0m\u001b[0mguard_cols\u001b[0m\u001b[0;34m+\u001b[0m\u001b[0;36m1\u001b[0m\u001b[0;34m]\u001b[0m \u001b[0;34m*\u001b[0m \u001b[0mwindow\u001b[0m\u001b[0;34m\u001b[0m\u001b[0;34m\u001b[0m\u001b[0m\n\u001b[1;32m     18\u001b[0m                 \u001b[0;32mif\u001b[0m \u001b[0mmode\u001b[0m \u001b[0;34m==\u001b[0m \u001b[0;34m'lukin todd'\u001b[0m\u001b[0;34m:\u001b[0m\u001b[0;34m\u001b[0m\u001b[0;34m\u001b[0m\u001b[0m\n\u001b[0;32m---> 19\u001b[0;31m                         \u001b[0msparsity\u001b[0m\u001b[0;34m[\u001b[0m\u001b[0mi\u001b[0m\u001b[0;34m,\u001b[0m\u001b[0mj\u001b[0m\u001b[0;34m]\u001b[0m \u001b[0;34m=\u001b[0m \u001b[0mLT_sparsity\u001b[0m\u001b[0;34m(\u001b[0m\u001b[0msubregion\u001b[0m\u001b[0;34m)\u001b[0m\u001b[0;34m\u001b[0m\u001b[0;34m\u001b[0m\u001b[0m\n\u001b[0m\u001b[1;32m     20\u001b[0m                 \u001b[0;32melif\u001b[0m \u001b[0mmode\u001b[0m \u001b[0;34m==\u001b[0m \u001b[0;34m'local sparsity'\u001b[0m\u001b[0;34m:\u001b[0m\u001b[0;34m\u001b[0m\u001b[0;34m\u001b[0m\u001b[0m\n\u001b[1;32m     21\u001b[0m                         \u001b[0msparsity\u001b[0m\u001b[0;34m[\u001b[0m\u001b[0mi\u001b[0m\u001b[0;34m,\u001b[0m\u001b[0mj\u001b[0m\u001b[0;34m]\u001b[0m \u001b[0;34m=\u001b[0m \u001b[0mgini\u001b[0m\u001b[0;34m(\u001b[0m\u001b[0msubregion\u001b[0m\u001b[0;34m)\u001b[0m\u001b[0;34m\u001b[0m\u001b[0;34m\u001b[0m\u001b[0m\n",
      "\u001b[0;32m~/Documents/ime/compmus/mestrado/git/integration/scripts/mauricio_solutions/sparsity.py\u001b[0m in \u001b[0;36mLT_sparsity\u001b[0;34m(subregion)\u001b[0m\n\u001b[1;32m     45\u001b[0m         \u001b[0msorted\u001b[0m \u001b[0;34m=\u001b[0m \u001b[0mnp\u001b[0m\u001b[0;34m.\u001b[0m\u001b[0msort\u001b[0m\u001b[0;34m(\u001b[0m\u001b[0msubregion\u001b[0m\u001b[0;34m.\u001b[0m\u001b[0mflatten\u001b[0m\u001b[0;34m(\u001b[0m\u001b[0;34m)\u001b[0m\u001b[0;34m)\u001b[0m\u001b[0;34m[\u001b[0m\u001b[0;34m:\u001b[0m\u001b[0;34m:\u001b[0m\u001b[0;34m-\u001b[0m\u001b[0;36m1\u001b[0m\u001b[0;34m]\u001b[0m\u001b[0;34m\u001b[0m\u001b[0;34m\u001b[0m\u001b[0m\n\u001b[1;32m     46\u001b[0m         \u001b[0midx\u001b[0m \u001b[0;34m=\u001b[0m \u001b[0mlist\u001b[0m\u001b[0;34m(\u001b[0m\u001b[0mrange\u001b[0m\u001b[0;34m(\u001b[0m\u001b[0;36m1\u001b[0m\u001b[0;34m,\u001b[0m \u001b[0mlen\u001b[0m\u001b[0;34m(\u001b[0m\u001b[0msorted\u001b[0m\u001b[0;34m)\u001b[0m\u001b[0;34m+\u001b[0m\u001b[0;36m1\u001b[0m\u001b[0;34m)\u001b[0m\u001b[0;34m)\u001b[0m\u001b[0;34m\u001b[0m\u001b[0;34m\u001b[0m\u001b[0m\n\u001b[0;32m---> 47\u001b[0;31m         \u001b[0;32mreturn\u001b[0m \u001b[0;34m(\u001b[0m\u001b[0mnp\u001b[0m\u001b[0;34m.\u001b[0m\u001b[0msum\u001b[0m\u001b[0;34m(\u001b[0m\u001b[0msorted\u001b[0m\u001b[0;34m*\u001b[0m\u001b[0midx\u001b[0m\u001b[0;34m)\u001b[0m\u001b[0;34m)\u001b[0m \u001b[0;34m/\u001b[0m \u001b[0;34m(\u001b[0m\u001b[0mnp\u001b[0m\u001b[0;34m.\u001b[0m\u001b[0msqrt\u001b[0m\u001b[0;34m(\u001b[0m\u001b[0mnp\u001b[0m\u001b[0;34m.\u001b[0m\u001b[0msum\u001b[0m\u001b[0;34m(\u001b[0m\u001b[0msorted\u001b[0m\u001b[0;34m)\u001b[0m\u001b[0;34m)\u001b[0m \u001b[0;34m+\u001b[0m \u001b[0;36m0.0000001\u001b[0m\u001b[0;34m)\u001b[0m\u001b[0;34m\u001b[0m\u001b[0;34m\u001b[0m\u001b[0m\n\u001b[0m",
      "\u001b[0;31mKeyboardInterrupt\u001b[0m: "
     ]
    }
   ],
   "source": [
    "for i in range(len(res_window)):\n",
    "#     #STFT\n",
    "#     res = res_window[i]\n",
    "#     print(res)\n",
    "#     result_stft = %timeit -n 3 -r 3 -o librosa.stft(y, n_fft=res)\n",
    "#     #CQT\n",
    "#     bpo = hz_to_binperoct(res_hz[i])\n",
    "#     result_cqt = %timeit -n 3 -r 3 -o librosa.cqt(y, sr=sr, bins_per_octave=bpo, fmin=20, n_bins=10*bpo)\n",
    "    # LUKIN-TODD, SLS, SWGM\n",
    "    max_window = res_window[i]\n",
    "    window_lengths = [int(max_window/8), int(max_window/2), max_window]\n",
    "    kernel_anal = calc_kernel_size(window_lengths)\n",
    "    kernel_energy = calc_kernel_size(window_lengths, energy=True)\n",
    "    result_LT = %timeit -n 1 -r 1 -o LT(y, window_lengths, kernel_anal)\n",
    "#     result_SWGM = %timeit -n 3 -r 3 -o swgm_time(y, window_lengths)\n",
    "    result_SLS = %timeit -n 1 -r 1 -o SLS_time(y, window_lengths, kernel_anal, kernel_energy)\n",
    "#     # OUR SOLUTION\n",
    "#     res = np.max([int(res_window[i] // 2048), 1])\n",
    "#     result_OURS = %timeit -n 3 -r 3 -o our_solution(y, res)\n",
    "    \n",
    "    result_file = 'results_costly' + str(res_window[i]) + '.csv'\n",
    "\n",
    "    with open(result_file, 'a') as csvfile:\n",
    "        writer = csv.writer(csvfile, delimiter=';')\n",
    "#         writer.writerow([file_name, 'STFT', str(result_stft)])\n",
    "#         writer.writerow([file_name, 'CQT', str(result_cqt)])\n",
    "        writer.writerow([file_name, 'LT', str(result_LT)])\n",
    "#         writer.writerow([file_name, 'SWGM', str(result_SWGM)])\n",
    "        writer.writerow([file_name, 'SLS', str(result_SLS)])\n",
    "#         writer.writerow([file_name, 'OURS', str(result_OURS)])"
   ]
  },
  {
   "cell_type": "code",
   "execution_count": null,
   "metadata": {},
   "outputs": [],
   "source": [
    "Audio(sound_file, autoplay=True)"
   ]
  },
  {
   "cell_type": "code",
   "execution_count": null,
   "metadata": {},
   "outputs": [],
   "source": []
  }
 ],
 "metadata": {
  "kernelspec": {
   "display_name": "Python 3",
   "language": "python",
   "name": "python3"
  },
  "language_info": {
   "codemirror_mode": {
    "name": "ipython",
    "version": 3
   },
   "file_extension": ".py",
   "mimetype": "text/x-python",
   "name": "python",
   "nbconvert_exporter": "python",
   "pygments_lexer": "ipython3",
   "version": "3.7.3"
  }
 },
 "nbformat": 4,
 "nbformat_minor": 4
}
