{
 "cells": [
  {
   "cell_type": "code",
   "execution_count": 1,
   "metadata": {},
   "outputs": [],
   "source": [
    "import pandas as pd\n",
    "import numpy as np\n",
    "import matplotlib.pyplot as plt\n",
    "%matplotlib inline\n",
    "\n",
    "def to_list(list_of_strings):\n",
    "    return list(map(float, list_of_strings.strip('][').split(', ')))\n",
    "\n",
    "def treat_pcts(pcts):\n",
    "    for col in ['pct_multilevel_2', 'pct_multilevel_3', 'pct_multilevel_4']:\n",
    "        pcts[col] = pcts[col].apply(to_list)\n",
    "    return pcts\n",
    "\n",
    "def get_pcts(pcts, file):\n",
    "    pcts_file = (pcts[pcts['file name'] == file]).iloc[0]\n",
    "    return(pcts_file['pct_200'], pcts_file['pct_500'], pcts_file['pct_800'], pcts_file['pct_1600'],\n",
    "            pcts_file['pct_multilevel_2'], pcts_file['pct_multilevel_3'], pcts_file['pct_multilevel_4'])"
   ]
  },
  {
   "cell_type": "code",
   "execution_count": 42,
   "metadata": {},
   "outputs": [],
   "source": [
    "pcts = pd.read_csv('./results/pcts.csv', sep=';')\n",
    "pcts = treat_pcts(pcts)"
   ]
  },
  {
   "cell_type": "code",
   "execution_count": 43,
   "metadata": {},
   "outputs": [
    {
     "data": {
      "text/html": [
       "<div>\n",
       "<style scoped>\n",
       "    .dataframe tbody tr th:only-of-type {\n",
       "        vertical-align: middle;\n",
       "    }\n",
       "\n",
       "    .dataframe tbody tr th {\n",
       "        vertical-align: top;\n",
       "    }\n",
       "\n",
       "    .dataframe thead th {\n",
       "        text-align: right;\n",
       "    }\n",
       "</style>\n",
       "<table border=\"1\" class=\"dataframe\">\n",
       "  <thead>\n",
       "    <tr style=\"text-align: right;\">\n",
       "      <th></th>\n",
       "      <th>file name</th>\n",
       "      <th>pct_200</th>\n",
       "      <th>pct_500</th>\n",
       "      <th>pct_800</th>\n",
       "      <th>pct_1600</th>\n",
       "      <th>pct_multilevel_2</th>\n",
       "      <th>pct_multilevel_3</th>\n",
       "      <th>pct_multilevel_4</th>\n",
       "    </tr>\n",
       "  </thead>\n",
       "  <tbody>\n",
       "    <tr>\n",
       "      <th>0</th>\n",
       "      <td>/Users/nicolas/Documents/ime/compmus/mestrado/...</td>\n",
       "      <td>14.830827</td>\n",
       "      <td>23.235294</td>\n",
       "      <td>29.054054</td>\n",
       "      <td>42.592593</td>\n",
       "      <td>[42.592592592592595, 82.5]</td>\n",
       "      <td>[42.592592592592595, 82.5, 85.80246913580247]</td>\n",
       "      <td>[42.592592592592595, 82.5, 85.80246913580247, ...</td>\n",
       "    </tr>\n",
       "    <tr>\n",
       "      <th>1</th>\n",
       "      <td>/Users/nicolas/Documents/ime/compmus/mestrado/...</td>\n",
       "      <td>14.135338</td>\n",
       "      <td>16.470588</td>\n",
       "      <td>25.675676</td>\n",
       "      <td>42.592593</td>\n",
       "      <td>[42.592592592592595, 64.13043478260869]</td>\n",
       "      <td>[42.592592592592595, 64.13043478260869, 73.856...</td>\n",
       "      <td>[42.592592592592595, 64.13043478260869, 73.856...</td>\n",
       "    </tr>\n",
       "    <tr>\n",
       "      <th>2</th>\n",
       "      <td>/Users/nicolas/Documents/ime/compmus/mestrado/...</td>\n",
       "      <td>4.774436</td>\n",
       "      <td>9.411765</td>\n",
       "      <td>10.135135</td>\n",
       "      <td>18.518519</td>\n",
       "      <td>[18.51851851851852, 72.5]</td>\n",
       "      <td>[18.51851851851852, 72.5, 56.86274509803921]</td>\n",
       "      <td>[18.51851851851852, 72.5, 56.86274509803921, 6...</td>\n",
       "    </tr>\n",
       "    <tr>\n",
       "      <th>3</th>\n",
       "      <td>/Users/nicolas/Documents/ime/compmus/mestrado/...</td>\n",
       "      <td>10.902256</td>\n",
       "      <td>17.254902</td>\n",
       "      <td>21.396396</td>\n",
       "      <td>35.185185</td>\n",
       "      <td>[35.18518518518518, 72.09302325581395]</td>\n",
       "      <td>[35.18518518518518, 72.09302325581395, 71.0743...</td>\n",
       "      <td>[35.18518518518518, 72.09302325581395, 71.0743...</td>\n",
       "    </tr>\n",
       "    <tr>\n",
       "      <th>4</th>\n",
       "      <td>/Users/nicolas/Documents/ime/compmus/mestrado/...</td>\n",
       "      <td>28.928571</td>\n",
       "      <td>34.313725</td>\n",
       "      <td>32.657658</td>\n",
       "      <td>33.333333</td>\n",
       "      <td>[33.33333333333333, 95.83333333333334]</td>\n",
       "      <td>[33.33333333333333, 95.83333333333334, 100.0]</td>\n",
       "      <td>[33.33333333333333, 95.83333333333334, 100.0, ...</td>\n",
       "    </tr>\n",
       "  </tbody>\n",
       "</table>\n",
       "</div>"
      ],
      "text/plain": [
       "                                           file name    pct_200    pct_500  \\\n",
       "0  /Users/nicolas/Documents/ime/compmus/mestrado/...  14.830827  23.235294   \n",
       "1  /Users/nicolas/Documents/ime/compmus/mestrado/...  14.135338  16.470588   \n",
       "2  /Users/nicolas/Documents/ime/compmus/mestrado/...   4.774436   9.411765   \n",
       "3  /Users/nicolas/Documents/ime/compmus/mestrado/...  10.902256  17.254902   \n",
       "4  /Users/nicolas/Documents/ime/compmus/mestrado/...  28.928571  34.313725   \n",
       "\n",
       "     pct_800   pct_1600                         pct_multilevel_2  \\\n",
       "0  29.054054  42.592593               [42.592592592592595, 82.5]   \n",
       "1  25.675676  42.592593  [42.592592592592595, 64.13043478260869]   \n",
       "2  10.135135  18.518519                [18.51851851851852, 72.5]   \n",
       "3  21.396396  35.185185   [35.18518518518518, 72.09302325581395]   \n",
       "4  32.657658  33.333333   [33.33333333333333, 95.83333333333334]   \n",
       "\n",
       "                                    pct_multilevel_3  \\\n",
       "0      [42.592592592592595, 82.5, 85.80246913580247]   \n",
       "1  [42.592592592592595, 64.13043478260869, 73.856...   \n",
       "2       [18.51851851851852, 72.5, 56.86274509803921]   \n",
       "3  [35.18518518518518, 72.09302325581395, 71.0743...   \n",
       "4      [33.33333333333333, 95.83333333333334, 100.0]   \n",
       "\n",
       "                                    pct_multilevel_4  \n",
       "0  [42.592592592592595, 82.5, 85.80246913580247, ...  \n",
       "1  [42.592592592592595, 64.13043478260869, 73.856...  \n",
       "2  [18.51851851851852, 72.5, 56.86274509803921, 6...  \n",
       "3  [35.18518518518518, 72.09302325581395, 71.0743...  \n",
       "4  [33.33333333333333, 95.83333333333334, 100.0, ...  "
      ]
     },
     "execution_count": 43,
     "metadata": {},
     "output_type": "execute_result"
    }
   ],
   "source": [
    "pcts.head()"
   ]
  },
  {
   "cell_type": "code",
   "execution_count": 44,
   "metadata": {},
   "outputs": [],
   "source": [
    "pcts['level 2'] = pcts['pct_multilevel_2'].apply(lambda x: x[1])\n",
    "pcts['level 3'] = pcts['pct_multilevel_3'].apply(lambda x: x[2])\n",
    "pcts['level 4'] = pcts['pct_multilevel_4'].apply(lambda x: x[3])"
   ]
  },
  {
   "cell_type": "code",
   "execution_count": 45,
   "metadata": {},
   "outputs": [],
   "source": [
    "pcts = pcts.drop(['pct_multilevel_2', 'pct_multilevel_3', 'pct_multilevel_4'], axis=1)"
   ]
  },
  {
   "cell_type": "code",
   "execution_count": 46,
   "metadata": {},
   "outputs": [
    {
     "data": {
      "text/html": [
       "<div>\n",
       "<style scoped>\n",
       "    .dataframe tbody tr th:only-of-type {\n",
       "        vertical-align: middle;\n",
       "    }\n",
       "\n",
       "    .dataframe tbody tr th {\n",
       "        vertical-align: top;\n",
       "    }\n",
       "\n",
       "    .dataframe thead th {\n",
       "        text-align: right;\n",
       "    }\n",
       "</style>\n",
       "<table border=\"1\" class=\"dataframe\">\n",
       "  <thead>\n",
       "    <tr style=\"text-align: right;\">\n",
       "      <th></th>\n",
       "      <th>file name</th>\n",
       "      <th>pct_200</th>\n",
       "      <th>pct_500</th>\n",
       "      <th>pct_800</th>\n",
       "      <th>pct_1600</th>\n",
       "      <th>level 2</th>\n",
       "      <th>level 3</th>\n",
       "      <th>level 4</th>\n",
       "    </tr>\n",
       "  </thead>\n",
       "  <tbody>\n",
       "    <tr>\n",
       "      <th>0</th>\n",
       "      <td>/Users/nicolas/Documents/ime/compmus/mestrado/...</td>\n",
       "      <td>14.830827</td>\n",
       "      <td>23.235294</td>\n",
       "      <td>29.054054</td>\n",
       "      <td>42.592593</td>\n",
       "      <td>82.500000</td>\n",
       "      <td>85.802469</td>\n",
       "      <td>83.403805</td>\n",
       "    </tr>\n",
       "    <tr>\n",
       "      <th>1</th>\n",
       "      <td>/Users/nicolas/Documents/ime/compmus/mestrado/...</td>\n",
       "      <td>14.135338</td>\n",
       "      <td>16.470588</td>\n",
       "      <td>25.675676</td>\n",
       "      <td>42.592593</td>\n",
       "      <td>64.130435</td>\n",
       "      <td>73.856209</td>\n",
       "      <td>71.826281</td>\n",
       "    </tr>\n",
       "    <tr>\n",
       "      <th>2</th>\n",
       "      <td>/Users/nicolas/Documents/ime/compmus/mestrado/...</td>\n",
       "      <td>4.774436</td>\n",
       "      <td>9.411765</td>\n",
       "      <td>10.135135</td>\n",
       "      <td>18.518519</td>\n",
       "      <td>72.500000</td>\n",
       "      <td>56.862745</td>\n",
       "      <td>61.490683</td>\n",
       "    </tr>\n",
       "    <tr>\n",
       "      <th>3</th>\n",
       "      <td>/Users/nicolas/Documents/ime/compmus/mestrado/...</td>\n",
       "      <td>10.902256</td>\n",
       "      <td>17.254902</td>\n",
       "      <td>21.396396</td>\n",
       "      <td>35.185185</td>\n",
       "      <td>72.093023</td>\n",
       "      <td>71.074380</td>\n",
       "      <td>71.761658</td>\n",
       "    </tr>\n",
       "    <tr>\n",
       "      <th>4</th>\n",
       "      <td>/Users/nicolas/Documents/ime/compmus/mestrado/...</td>\n",
       "      <td>28.928571</td>\n",
       "      <td>34.313725</td>\n",
       "      <td>32.657658</td>\n",
       "      <td>33.333333</td>\n",
       "      <td>95.833333</td>\n",
       "      <td>100.000000</td>\n",
       "      <td>93.360434</td>\n",
       "    </tr>\n",
       "  </tbody>\n",
       "</table>\n",
       "</div>"
      ],
      "text/plain": [
       "                                           file name    pct_200    pct_500  \\\n",
       "0  /Users/nicolas/Documents/ime/compmus/mestrado/...  14.830827  23.235294   \n",
       "1  /Users/nicolas/Documents/ime/compmus/mestrado/...  14.135338  16.470588   \n",
       "2  /Users/nicolas/Documents/ime/compmus/mestrado/...   4.774436   9.411765   \n",
       "3  /Users/nicolas/Documents/ime/compmus/mestrado/...  10.902256  17.254902   \n",
       "4  /Users/nicolas/Documents/ime/compmus/mestrado/...  28.928571  34.313725   \n",
       "\n",
       "     pct_800   pct_1600    level 2     level 3    level 4  \n",
       "0  29.054054  42.592593  82.500000   85.802469  83.403805  \n",
       "1  25.675676  42.592593  64.130435   73.856209  71.826281  \n",
       "2  10.135135  18.518519  72.500000   56.862745  61.490683  \n",
       "3  21.396396  35.185185  72.093023   71.074380  71.761658  \n",
       "4  32.657658  33.333333  95.833333  100.000000  93.360434  "
      ]
     },
     "execution_count": 46,
     "metadata": {},
     "output_type": "execute_result"
    }
   ],
   "source": [
    "pcts.head()"
   ]
  },
  {
   "cell_type": "code",
   "execution_count": 47,
   "metadata": {},
   "outputs": [],
   "source": [
    "def calc_pct_lastlevel(lvl_1, lvl_2, lvl_3, lvl_4):\n",
    "    return "
   ]
  },
  {
   "cell_type": "code",
   "execution_count": 48,
   "metadata": {},
   "outputs": [],
   "source": [
    "pcts = pcts.rename(columns={'pct_200':'200x200','pct_500':'500x500','pct_800':'800x800','pct_1600':'1600x1600'})"
   ]
  },
  {
   "cell_type": "code",
   "execution_count": 49,
   "metadata": {},
   "outputs": [
    {
     "data": {
      "text/plain": [
       "Text(0.5, 1.0, 'Boxplot of refinement percentage per subregion size')"
      ]
     },
     "execution_count": 49,
     "metadata": {},
     "output_type": "execute_result"
    },
    {
     "data": {
      "image/png": "[encoded data removed]",
      "text/plain": [
       "<Figure size 720x432 with 1 Axes>"
      ]
     },
     "metadata": {
      "needs_background": "light"
     },
     "output_type": "display_data"
    }
   ],
   "source": [
    "pcts.boxplot(column=['200x200','500x500','800x800','1600x1600'], figsize=[10,6])\n",
    "plt.ylabel('Percentage of spectrogram refined', fontsize='large')\n",
    "plt.title('Boxplot of refinement percentage per subregion size', fontsize='xx-large')"
   ]
  },
  {
   "cell_type": "code",
   "execution_count": 38,
   "metadata": {},
   "outputs": [],
   "source": [
    "pcts = pcts.rename(columns={'1600x1600':'level 1'})"
   ]
  },
  {
   "cell_type": "code",
   "execution_count": 40,
   "metadata": {},
   "outputs": [
    {
     "data": {
      "text/plain": [
       "Text(0.5, 1.0, 'Boxplot of refinement percentage at each level')"
      ]
     },
     "execution_count": 40,
     "metadata": {},
     "output_type": "execute_result"
    },
    {
     "data": {
      "image/png": "[encoded data removed]",
      "text/plain": [
       "<Figure size 720x432 with 1 Axes>"
      ]
     },
     "metadata": {
      "needs_background": "light"
     },
     "output_type": "display_data"
    }
   ],
   "source": [
    "pcts.boxplot(column=['level 1','level 2','level 3','level 4'], figsize=[10,6], fontsize='large')\n",
    "plt.ylabel('Percentage of subregions refined', fontsize='large')\n",
    "plt.title('Boxplot of refinement percentage at each level', fontsize='xx-large')"
   ]
  },
  {
   "cell_type": "code",
   "execution_count": 24,
   "metadata": {},
   "outputs": [],
   "source": [
    "pcts = pd.read_csv('./results/pcts.csv', sep=';')\n",
    "pcts = treat_pcts(pcts)"
   ]
  },
  {
   "cell_type": "code",
   "execution_count": 25,
   "metadata": {},
   "outputs": [],
   "source": [
    "pcts['Two levels'] = pcts['pct_multilevel_2'].apply(lambda x: 100*np.prod(np.array(x)/100))\n",
    "pcts['Three levels'] = pcts['pct_multilevel_3'].apply(lambda x: 100*np.prod(np.array(x)/100))\n",
    "pcts['Four levels'] = pcts['pct_multilevel_4'].apply(lambda x: 100*np.prod(np.array(x)/100))"
   ]
  },
  {
   "cell_type": "code",
   "execution_count": 27,
   "metadata": {},
   "outputs": [],
   "source": [
    "pcts = pcts.rename(columns={'pct_1600': 'One level'})"
   ]
  },
  {
   "cell_type": "code",
   "execution_count": 29,
   "metadata": {},
   "outputs": [
    {
     "data": {
      "text/plain": [
       "Text(0.5, 1.0, 'Boxplot of refinement pct of total TFP area per number of levels')"
      ]
     },
     "execution_count": 29,
     "metadata": {},
     "output_type": "execute_result"
    },
    {
     "data": {
      "image/png": "[encoded data removed]",
      "text/plain": [
       "<Figure size 720x432 with 1 Axes>"
      ]
     },
     "metadata": {
      "needs_background": "light"
     },
     "output_type": "display_data"
    }
   ],
   "source": [
    "pcts.boxplot(column=['One level','Two levels','Three levels','Four levels'], figsize=[10,6], fontsize='large')\n",
    "plt.ylabel('Percentage of spectrogram refined', fontsize='large')\n",
    "plt.title('Boxplot of refinement pct of total TFP area per number of levels', fontsize='xx-large')"
   ]
  },
  {
   "cell_type": "code",
   "execution_count": null,
   "metadata": {},
   "outputs": [],
   "source": []
  }
 ],
 "metadata": {
  "kernelspec": {
   "display_name": "Python 3",
   "language": "python",
   "name": "python3"
  },
  "language_info": {
   "codemirror_mode": {
    "name": "ipython",
    "version": 3
   },
   "file_extension": ".py",
   "mimetype": "text/x-python",
   "name": "python",
   "nbconvert_exporter": "python",
   "pygments_lexer": "ipython3",
   "version": "3.7.3"
  }
 },
 "nbformat": 4,
 "nbformat_minor": 4
}
